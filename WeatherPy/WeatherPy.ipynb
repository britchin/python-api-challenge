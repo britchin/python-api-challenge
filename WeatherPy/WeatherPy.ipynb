{
 "cells": [
  {
   "cell_type": "markdown",
   "metadata": {},
   "source": [
    "# WeatherPy\n",
    "----\n",
    "\n",
    "#### Note\n",
    "* Instructions have been included for each segment. You do not have to follow them exactly, but they are included to help you think through the steps."
   ]
  },
  {
   "cell_type": "code",
   "execution_count": 2,
   "metadata": {
    "scrolled": true
   },
   "outputs": [
    {
     "name": "stdout",
     "output_type": "stream",
     "text": [
      "Requirement already satisfied: citipy in c:\\users\\britt\\anaconda3\\envs\\pythondata\\lib\\site-packages (0.0.5)\n",
      "Requirement already satisfied: kdtree>=0.12 in c:\\users\\britt\\anaconda3\\envs\\pythondata\\lib\\site-packages (from citipy) (0.16)\n",
      "Note: you may need to restart the kernel to use updated packages.\n"
     ]
    }
   ],
   "source": [
    "pip install citipy"
   ]
  },
  {
   "cell_type": "code",
   "execution_count": 3,
   "metadata": {
    "scrolled": true
   },
   "outputs": [],
   "source": [
    "# Dependencies and Setup\n",
    "import matplotlib.pyplot as plt\n",
    "import pandas as pd\n",
    "import numpy as np\n",
    "import requests\n",
    "import time\n",
    "from scipy.stats import linregress\n",
    "\n",
    "\n",
    "# Import API key\n",
    "from api_keys import weather_api_key\n",
    "\n",
    "# Incorporated citipy to determine city based on latitude and longitude\n",
    "from citipy import citipy\n",
    "\n",
    "# Output File (CSV)\n",
    "output_data_file = \"output_data/cities.csv\"\n",
    "\n",
    "# Range of latitudes and longitudes\n",
    "lat_range = (-90, 90)\n",
    "lng_range = (-180, 180)"
   ]
  },
  {
   "cell_type": "markdown",
   "metadata": {},
   "source": [
    "## Generate Cities List"
   ]
  },
  {
   "cell_type": "code",
   "execution_count": 4,
   "metadata": {},
   "outputs": [
    {
     "data": {
      "text/plain": [
       "623"
      ]
     },
     "execution_count": 4,
     "metadata": {},
     "output_type": "execute_result"
    }
   ],
   "source": [
    "# List for holding lat_lngs and cities\n",
    "lat_lngs = []\n",
    "cities = []\n",
    "\n",
    "# Create a set of random lat and lng combinations\n",
    "lats = np.random.uniform(lat_range[0], lat_range[1], size=1500)\n",
    "lngs = np.random.uniform(lng_range[0], lng_range[1], size=1500)\n",
    "lat_lngs = zip(lats, lngs)\n",
    "\n",
    "# Identify nearest city for each lat, lng combination\n",
    "for lat_lng in lat_lngs:\n",
    "    city = citipy.nearest_city(lat_lng[0], lat_lng[1]).city_name\n",
    "    \n",
    "    # If the city is unique, then add it to a our cities list\n",
    "    if city not in cities:\n",
    "        cities.append(city)\n",
    "\n",
    "# Print the city count to confirm sufficient count\n",
    "len(cities)"
   ]
  },
  {
   "cell_type": "markdown",
   "metadata": {},
   "source": [
    "### Perform API Calls\n",
    "* Perform a weather check on each city using a series of successive API calls.\n",
    "* Include a print log of each city as it'sbeing processed (with the city number and city name).\n"
   ]
  },
  {
   "cell_type": "code",
   "execution_count": 6,
   "metadata": {
    "scrolled": true
   },
   "outputs": [
    {
     "name": "stdout",
     "output_type": "stream",
     "text": [
      "City Number 0,san quintin\n",
      "City Number 1,ushuaia\n",
      "City Number 2,busselton\n",
      "City Number 3,domoni\n",
      "City Number 4,khatanga\n",
      "City Number 5,gao\n",
      "City Number 6,cape town\n",
      "City Number 7,tuatapere\n",
      "City Number 8,presidencia roque saenz pena\n",
      "City Number 9,mataura\n",
      "City Number 10,alice springs\n",
      "City Number 11,tasiilaq\n",
      "City Number 12,jamestown\n",
      "City Number 13,murupara\n",
      "City Number 14,puerto ayora\n",
      "City Number 15,bredasdorp\n",
      "City Number 16,chokurdakh\n",
      "City Not Found\n",
      "City Number 18,olafsvik\n",
      "City Number 19,itarema\n",
      "City Number 20,torbay\n",
      "City Number 21,batticaloa\n",
      "City Number 22,arrecife\n",
      "City Number 23,hermanus\n",
      "City Number 24,souillac\n",
      "City Number 25,langarud\n",
      "City Number 26,ribeira grande\n",
      "City Number 27,bima\n",
      "City Number 28,luzhou\n",
      "City Number 29,lompoc\n",
      "City Number 30,rikitea\n",
      "City Not Found\n",
      "City Number 32,yoichi\n",
      "City Not Found\n",
      "City Number 34,iqaluit\n",
      "City Number 35,tecoanapa\n",
      "City Number 36,belmonte\n",
      "City Number 37,atuona\n",
      "City Number 38,upernavik\n",
      "City Number 39,cardonal\n",
      "City Number 40,thompson\n",
      "City Number 41,punta arenas\n",
      "City Number 42,dombas\n",
      "City Number 43,longyearbyen\n",
      "City Number 44,hobyo\n",
      "City Number 45,ambon\n",
      "City Number 46,port-gentil\n",
      "City Number 47,bilma\n",
      "City Number 48,yellowknife\n",
      "City Number 49,ekhabi\n",
      "City Number 50,albany\n",
      "City Number 51,esperance\n",
      "City Number 52,hilo\n",
      "City Number 53,san carlos de bariloche\n",
      "City Not Found\n",
      "City Number 55,bathsheba\n",
      "City Number 56,victoria\n",
      "City Number 57,kapaa\n",
      "City Number 58,atambua\n",
      "City Number 59,lyubech\n",
      "City Number 60,jega\n",
      "City Number 61,imbituba\n",
      "City Number 62,salalah\n",
      "City Number 63,qaanaaq\n",
      "City Not Found\n",
      "City Number 65,broken hill\n",
      "City Number 66,kaitangata\n",
      "City Number 67,kodiak\n",
      "City Number 68,dikson\n",
      "City Number 69,new norfolk\n",
      "City Number 70,mandali\n",
      "City Number 71,antalaha\n",
      "City Number 72,dingle\n",
      "City Number 73,damaturu\n",
      "City Number 74,saldanha\n",
      "City Number 75,syriam\n",
      "City Number 76,ville-marie\n",
      "City Number 77,sitka\n",
      "City Number 78,yar-sale\n",
      "City Number 79,vaini\n",
      "City Number 80,dubbo\n",
      "City Number 81,zaysan\n",
      "City Number 82,georgetown\n",
      "City Not Found\n",
      "City Number 84,santa marinella\n",
      "City Number 85,hofn\n",
      "City Number 86,flinders\n",
      "City Number 87,kerema\n",
      "City Number 88,talcahuano\n",
      "City Number 89,takoradi\n",
      "City Number 90,bambous virieux\n",
      "City Number 91,avarua\n",
      "City Number 92,castro\n",
      "City Number 93,hobart\n",
      "City Number 94,berdigestyakh\n",
      "City Not Found\n",
      "City Number 96,sao joao da barra\n",
      "City Number 97,cherskiy\n",
      "City Number 98,butaritari\n",
      "City Not Found\n",
      "City Number 100,codrington\n",
      "City Number 101,noumea\n",
      "City Not Found\n",
      "City Number 103,port alfred\n",
      "City Number 104,nemuro\n",
      "City Number 105,opuwo\n",
      "City Number 106,san patricio\n",
      "City Number 107,tuktoyaktuk\n",
      "City Number 108,la ronge\n",
      "City Number 109,nikolskoye\n",
      "City Number 110,heihe\n",
      "City Number 111,liverpool\n",
      "City Number 112,tarko-sale\n",
      "City Not Found\n",
      "City Number 114,leh\n",
      "City Number 115,chuy\n",
      "City Number 116,antofagasta\n",
      "City Number 117,dukat\n",
      "City Number 118,alasehir\n",
      "City Number 119,pochutla\n",
      "City Number 120,rio branco\n",
      "City Number 121,dobric\n",
      "City Number 122,kahului\n",
      "City Not Found\n",
      "City Number 124,palmer\n",
      "City Number 125,lorengau\n",
      "City Number 126,coxim\n",
      "City Number 127,bluff\n",
      "City Not Found\n",
      "City Number 129,bouna\n",
      "City Number 130,cherdyn\n",
      "City Number 131,batemans bay\n",
      "City Number 132,bambanglipuro\n",
      "City Number 133,bilibino\n",
      "City Number 134,kisangani\n",
      "City Number 135,luena\n",
      "City Number 136,arlit\n",
      "City Number 137,marienburg\n",
      "City Number 138,bonthe\n",
      "City Number 139,tucuman\n",
      "City Number 140,cidreira\n",
      "City Number 141,klaksvik\n",
      "City Number 142,laramie\n",
      "City Number 143,araouane\n",
      "City Number 144,cizre\n",
      "City Number 145,pacific grove\n",
      "City Number 146,ebolowa\n",
      "City Number 147,fairbanks\n",
      "City Number 148,rincon\n",
      "City Number 149,camacha\n",
      "City Number 150,novobohdanivka\n",
      "City Number 151,ponta do sol\n",
      "City Number 152,bethel\n",
      "City Number 153,carora\n",
      "City Number 154,mabaruma\n",
      "City Number 155,karpinsk\n",
      "City Number 156,mnogovershinnyy\n",
      "City Number 157,altay\n",
      "City Number 158,katikati\n",
      "City Number 159,mar del plata\n",
      "City Not Found\n",
      "City Number 161,dalian\n",
      "City Number 162,barrow\n",
      "City Number 163,east london\n",
      "City Number 164,eslov\n",
      "City Number 165,morant bay\n",
      "City Not Found\n",
      "City Number 167,ouadda\n",
      "City Number 168,strai\n",
      "City Number 169,aripuana\n",
      "City Number 170,sotouboua\n",
      "City Number 171,xapuri\n",
      "City Number 172,moose factory\n",
      "City Number 173,yumen\n",
      "City Number 174,leningradskiy\n",
      "City Number 175,liaqatabad\n",
      "City Number 176,ucluelet\n",
      "City Not Found\n",
      "City Not Found\n",
      "City Number 179,katsuura\n",
      "City Number 180,olinda\n",
      "City Number 181,meulaboh\n",
      "City Number 182,ilulissat\n",
      "City Number 183,bull savanna\n",
      "City Number 184,micheweni\n",
      "City Number 185,san jose del guaviare\n",
      "City Number 186,maningrida\n",
      "City Number 187,hithadhoo\n",
      "City Number 188,sept-iles\n",
      "City Not Found\n",
      "City Not Found\n",
      "City Number 191,mahebourg\n",
      "City Number 192,lasa\n",
      "City Number 193,menongue\n",
      "City Number 194,prokuplje\n",
      "City Number 195,kavieng\n",
      "City Number 196,tarauaca\n",
      "City Number 197,pangnirtung\n",
      "City Number 198,ierapetra\n",
      "City Number 199,arys\n",
      "City Number 200,port hardy\n",
      "City Number 201,atbasar\n",
      "City Not Found\n",
      "City Number 203,carlsbad\n",
      "City Number 204,pisco\n",
      "City Number 205,tiksi\n",
      "City Number 206,talnakh\n",
      "City Number 207,jacareacanga\n",
      "City Number 208,shajapur\n",
      "City Number 209,mulanje\n",
      "City Number 210,norman wells\n",
      "City Number 211,campo maior\n",
      "City Number 212,vila velha\n",
      "City Number 213,north bend\n",
      "City Number 214,mashhad\n",
      "City Number 215,chokwe\n",
      "City Not Found\n",
      "City Number 217,mayumba\n",
      "City Number 218,tautira\n",
      "City Number 219,prado\n",
      "City Number 220,omboue\n",
      "City Number 221,tygda\n",
      "City Number 222,vostok\n",
      "City Number 223,saint george\n",
      "City Number 224,grenfell\n",
      "City Number 225,nanortalik\n",
      "City Number 226,mocuba\n",
      "City Number 227,burladingen\n",
      "City Number 228,lavrentiya\n",
      "City Number 229,coahuayana\n",
      "City Number 230,tahta\n",
      "City Number 231,port elizabeth\n",
      "City Not Found\n",
      "City Not Found\n",
      "City Number 234,sola\n",
      "City Number 235,husavik\n",
      "City Number 236,tornio\n",
      "City Number 237,karratha\n",
      "City Number 238,mariel\n",
      "City Number 239,fortuna\n",
      "City Number 240,shu\n",
      "City Number 241,vadso\n",
      "City Number 242,fare\n",
      "City Not Found\n",
      "City Number 244,pouebo\n",
      "City Number 245,santa isabel\n",
      "City Number 246,rocha\n",
      "City Number 247,aldan\n",
      "City Number 248,asau\n",
      "City Number 249,nianzishan\n",
      "City Number 250,cabo san lucas\n",
      "City Number 251,saskylakh\n",
      "City Number 252,tafalla\n",
      "City Number 253,rennes\n",
      "City Number 254,bandarbeyla\n",
      "City Number 255,airai\n",
      "City Not Found\n",
      "City Not Found\n",
      "City Number 258,tsagan aman\n",
      "City Number 259,constitucion\n",
      "City Number 260,webuye\n",
      "City Number 261,vardo\n",
      "City Number 262,tamandare\n",
      "City Number 263,mantua\n",
      "City Number 264,lakatoro\n",
      "City Number 265,galbshtadt\n",
      "City Number 266,hami\n",
      "City Number 267,kaeo\n",
      "City Number 268,oriximina\n",
      "City Number 269,blama\n",
      "City Number 270,almirante\n",
      "City Not Found\n",
      "City Number 272,mumbwa\n",
      "City Number 273,pozo colorado\n",
      "City Number 274,saint-philippe\n",
      "City Number 275,auki\n",
      "City Number 276,jinxiang\n",
      "City Number 277,ust-nera\n",
      "City Number 278,buena vista\n",
      "City Number 279,vila franca do campo\n",
      "City Number 280,athabasca\n",
      "City Number 281,qandala\n",
      "City Not Found\n",
      "City Not Found\n",
      "City Number 284,saint anthony\n",
      "City Number 285,okhotsk\n",
      "City Number 286,sorland\n",
      "City Number 287,roebourne\n",
      "City Number 288,asten\n",
      "City Number 289,kjollefjord\n",
      "City Number 290,arraial do cabo\n",
      "City Not Found\n",
      "City Number 292,ibimirim\n",
      "City Number 293,bourbonnais\n",
      "City Number 294,alamogordo\n",
      "City Number 295,guerrero negro\n",
      "City Number 296,piacabucu\n",
      "City Number 297,kyra\n",
      "City Not Found\n",
      "City Number 299,bria\n",
      "City Number 300,bensonville\n",
      "City Number 301,camacupa\n",
      "City Number 302,moba\n",
      "City Number 303,san isidro\n",
      "City Number 304,broome\n",
      "City Number 305,labrea\n",
      "City Number 306,kalianget\n",
      "City Number 307,lata\n",
      "City Number 308,geraldton\n",
      "City Not Found\n",
      "City Number 310,poli\n",
      "City Number 311,brylivka\n",
      "City Number 312,vasteras\n",
      "City Not Found\n",
      "City Number 314,sambava\n",
      "City Number 315,puerto el triunfo\n",
      "City Number 316,buchanan\n",
      "City Not Found\n",
      "City Number 318,kharp\n",
      "City Number 319,the valley\n",
      "City Number 320,lebu\n",
      "City Not Found\n",
      "City Number 322,provideniya\n",
      "City Number 323,tongchuan\n",
      "City Not Found\n",
      "City Number 325,jasper\n",
      "City Number 326,mangrol\n",
      "City Number 327,ruteng\n",
      "City Number 328,kysyl-syr\n",
      "City Not Found\n",
      "City Number 330,new haven\n",
      "City Number 331,muros\n",
      "City Number 332,hohhot\n",
      "City Not Found\n",
      "City Number 334,chinsali\n",
      "City Number 335,babstovo\n",
      "City Number 336,clyde river\n",
      "City Number 337,yuci\n",
      "City Number 338,tezu\n",
      "City Number 339,ancud\n",
      "City Number 340,banjarmasin\n",
      "City Number 341,staraya poltavka\n",
      "City Number 342,san cristobal\n",
      "City Number 343,margate\n",
      "City Number 344,pangai\n"
     ]
    },
    {
     "name": "stdout",
     "output_type": "stream",
     "text": [
      "City Number 345,vondrozo\n",
      "City Number 346,lazaro cardenas\n",
      "City Number 347,chapais\n",
      "City Number 348,nyagan\n",
      "City Number 349,port blair\n",
      "City Number 350,mount isa\n",
      "City Number 351,luderitz\n",
      "City Number 352,vieste\n",
      "City Number 353,lufkin\n",
      "City Number 354,buchach\n",
      "City Number 355,saint-georges\n",
      "City Number 356,isangel\n",
      "City Number 357,portland\n",
      "City Number 358,bacolod\n",
      "City Number 359,kailua\n",
      "City Number 360,guozhen\n",
      "City Number 361,ayan\n",
      "City Number 362,port keats\n",
      "City Not Found\n",
      "City Number 364,uruzgan\n",
      "City Number 365,nanzhou\n",
      "City Number 366,scottsbluff\n",
      "City Number 367,wattegama\n",
      "City Number 368,calvinia\n",
      "City Number 369,paamiut\n",
      "City Number 370,ostrovnoy\n",
      "City Number 371,lagoa\n",
      "City Number 372,turukhansk\n",
      "City Number 373,paraiso\n",
      "City Number 374,salisbury\n",
      "City Number 375,henties bay\n",
      "City Number 376,miyako\n",
      "City Number 377,rodeo\n",
      "City Number 378,butembo\n",
      "City Number 379,narsaq\n",
      "City Number 380,flin flon\n",
      "City Number 381,hasaki\n",
      "City Number 382,bundi\n",
      "City Number 383,viransehir\n",
      "City Number 384,chake chake\n",
      "City Number 385,barcarena\n",
      "City Number 386,santa isabel do rio negro\n",
      "City Number 387,pingliang\n",
      "City Number 388,nkayi\n",
      "City Number 389,kulhudhuffushi\n",
      "City Number 390,biscarrosse\n",
      "City Number 391,ozark\n",
      "City Number 392,camana\n",
      "City Number 393,itaituba\n",
      "City Number 394,gondanglegi\n",
      "City Number 395,tessalit\n",
      "City Number 396,sayyan\n",
      "City Number 397,nome\n",
      "City Number 398,yerofey pavlovich\n",
      "City Number 399,okha\n",
      "City Number 400,krasnoselkup\n",
      "City Number 401,makakilo city\n",
      "City Number 402,kandalaksha\n",
      "City Number 403,carnarvon\n",
      "City Number 404,saint-pierre\n",
      "City Number 405,den helder\n",
      "City Number 406,richards bay\n",
      "City Number 407,shimoda\n",
      "City Number 408,ambulu\n",
      "City Number 409,bingol\n",
      "City Number 410,tiznit\n",
      "City Number 411,palestine\n",
      "City Number 412,peace river\n",
      "City Number 413,bereda\n",
      "City Number 414,pevek\n",
      "City Number 415,rio claro\n",
      "City Number 416,grootfontein\n",
      "City Number 417,buala\n",
      "City Number 418,kaoma\n",
      "City Number 419,tevriz\n",
      "City Number 420,marsabit\n",
      "City Number 421,saint-augustin\n",
      "City Number 422,erenhot\n",
      "City Number 423,villazon\n",
      "City Number 424,kedrovyy\n",
      "City Number 425,hervey bay\n",
      "City Number 426,ust-katav\n",
      "City Number 427,xiaoweizhai\n",
      "City Number 428,musoma\n",
      "City Number 429,saint-joseph\n",
      "City Number 430,berlevag\n",
      "City Not Found\n",
      "City Number 432,kruisfontein\n",
      "City Number 433,horodnya\n",
      "City Number 434,aklavik\n",
      "City Number 435,cockburn town\n",
      "City Number 436,tura\n",
      "City Number 437,port macquarie\n",
      "City Number 438,huoqiu\n",
      "City Number 439,kendal\n",
      "City Number 440,necochea\n",
      "City Number 441,tashtagol\n",
      "City Number 442,ketchikan\n",
      "City Number 443,sao filipe\n",
      "City Number 444,gravdal\n",
      "City Number 445,greenwood\n",
      "City Number 446,pilar\n",
      "City Number 447,skjervoy\n",
      "City Number 448,bar harbor\n",
      "City Number 449,snezhnogorsk\n",
      "City Number 450,atar\n",
      "City Number 451,upata\n",
      "City Number 452,goose creek\n",
      "City Number 453,armidale\n",
      "City Number 454,raymond\n",
      "City Number 455,beyla\n",
      "City Number 456,san bartolome de tirajana\n",
      "City Number 457,hit\n",
      "City Number 458,mbinga\n",
      "City Number 459,saint-francois\n",
      "City Number 460,teya\n",
      "City Number 461,high level\n",
      "City Number 462,kharan\n",
      "City Number 463,bang saphan\n",
      "City Number 464,umm kaddadah\n",
      "City Number 465,along\n",
      "City Number 466,talcher\n",
      "City Number 467,conceicao do araguaia\n",
      "City Number 468,kemijarvi\n",
      "City Number 469,lodeynoye pole\n",
      "City Number 470,acapulco\n",
      "City Number 471,alofi\n",
      "City Number 472,mezhdurechensk\n",
      "City Number 473,erzurum\n",
      "City Number 474,ixtapa\n",
      "City Number 475,panguna\n",
      "City Number 476,balrampur\n",
      "City Number 477,ereymentau\n",
      "City Number 478,seymchan\n",
      "City Number 479,karur\n",
      "City Number 480,khandyga\n",
      "City Number 481,carutapera\n",
      "City Number 482,santa maria\n",
      "City Number 483,los llanos de aridane\n",
      "City Number 484,ringebu\n",
      "City Number 485,moron\n",
      "City Number 486,kargil\n",
      "City Number 487,itamaraju\n",
      "City Number 488,erzin\n",
      "City Number 489,boyolangu\n",
      "City Number 490,general roca\n",
      "City Number 491,naze\n",
      "City Number 492,grand-lahou\n",
      "City Number 493,gamba\n",
      "City Number 494,liuhe\n",
      "City Number 495,kungurtug\n",
      "City Number 496,tokmak\n",
      "City Number 497,peniche\n",
      "City Number 498,kaduqli\n",
      "City Number 499,krasnoarmeysk\n",
      "City Number 500,jadu\n",
      "City Number 501,weligama\n",
      "City Number 502,kerur\n",
      "City Number 503,mamakan\n",
      "City Number 504,ulaangom\n",
      "City Number 505,dakar\n",
      "City Number 506,san vicente\n",
      "City Number 507,sultanpur\n",
      "City Number 508,bengkulu\n",
      "City Number 509,gigmoto\n",
      "City Number 510,sur\n",
      "City Number 511,tomatlan\n",
      "City Number 512,cordoba\n",
      "City Number 513,yulara\n",
      "City Number 514,severo-kurilsk\n",
      "City Number 515,paine\n",
      "City Number 516,kopychyntsi\n",
      "City Not Found\n",
      "City Number 518,tual\n",
      "City Number 519,kisujszallas\n",
      "City Number 520,ipilan\n",
      "City Number 521,dubuque\n",
      "City Not Found\n",
      "City Number 523,luanda\n",
      "City Number 524,talgar\n",
      "City Number 525,komsomolskiy\n",
      "City Number 526,kralendijk\n",
      "City Number 527,khorramabad\n",
      "City Number 528,nacala\n",
      "City Not Found\n",
      "City Number 530,wairoa\n",
      "City Number 531,plonsk\n",
      "City Number 532,xichang\n",
      "City Number 533,winslow\n",
      "City Number 534,oum hadjer\n",
      "City Number 535,gizo\n",
      "City Number 536,bowen\n",
      "City Number 537,mareeba\n",
      "City Number 538,san andres\n",
      "City Number 539,yining\n",
      "City Number 540,porbandar\n",
      "City Number 541,simpang\n",
      "City Number 542,tiarei\n",
      "City Not Found\n",
      "City Not Found\n",
      "City Not Found\n",
      "City Number 546,concordia\n",
      "City Number 547,katherine\n",
      "City Number 548,xuanzhou\n",
      "City Number 549,kangaatsiaq\n",
      "City Number 550,tamasopo\n",
      "City Not Found\n",
      "City Number 552,kearney\n",
      "City Number 553,phalaborwa\n",
      "City Number 554,iralaya\n",
      "City Number 555,lakes entrance\n",
      "City Number 556,salinas\n",
      "City Number 557,sungaipenuh\n",
      "City Number 558,te anau\n",
      "City Number 559,colchester\n",
      "City Number 560,el carmen\n",
      "City Number 561,mongu\n",
      "City Not Found\n",
      "City Number 563,khani\n",
      "City Number 564,kolondieba\n",
      "City Not Found\n",
      "City Number 566,dandong\n",
      "City Number 567,dubai\n",
      "City Number 568,sobolevo\n",
      "City Not Found\n",
      "City Number 570,lillooet\n",
      "City Number 571,terrace bay\n",
      "City Number 572,whitley bay\n",
      "City Not Found\n",
      "City Number 574,scarborough\n",
      "City Number 575,ugoofaaru\n",
      "City Number 576,moroni\n",
      "City Number 577,kieta\n",
      "City Number 578,boshnyakovo\n",
      "City Number 579,akhisar\n",
      "City Number 580,nouadhibou\n",
      "City Number 581,fort nelson\n",
      "City Number 582,aksarka\n",
      "City Number 583,aksu\n",
      "City Number 584,ciudad bolivar\n",
      "City Number 585,koungheul\n",
      "City Number 586,zhigalovo\n",
      "City Number 587,caruray\n",
      "City Number 588,morondava\n",
      "City Number 589,sonegaon\n",
      "City Number 590,carahue\n",
      "City Number 591,sao joao de pirabas\n",
      "City Number 592,piterka\n",
      "City Number 593,ovsyanka\n",
      "City Number 594,zhurivka\n",
      "City Number 595,yukhnov\n",
      "City Number 596,khandbari\n",
      "City Number 597,anadyr\n",
      "City Number 598,pyu\n",
      "City Number 599,dese\n",
      "City Number 600,porto torres\n",
      "City Number 601,rosarito\n",
      "City Number 602,marsa matruh\n",
      "City Number 603,derzhavinsk\n",
      "City Number 604,yuancheng\n",
      "City Number 605,songjianghe\n",
      "City Number 606,faanui\n",
      "City Number 607,castle rock\n",
      "City Not Found\n",
      "City Number 609,korostyshiv\n",
      "City Number 610,sibolga\n",
      "City Number 611,rawson\n",
      "City Not Found\n",
      "City Number 613,calabar\n",
      "City Number 614,inhambane\n",
      "City Number 615,vila do maio\n",
      "City Number 616,paita\n",
      "City Number 617,fuerte olimpo\n",
      "City Number 618,sawtell\n",
      "City Number 619,pangoa\n",
      "City Number 620,coihaique\n",
      "City Number 621,calamar\n",
      "City Number 622,mirandopolis\n"
     ]
    }
   ],
   "source": [
    "# save configuration info for website\n",
    "url = \"http://api.openweathermap.org/data/2.5/weather?\"\n",
    "units = \"imperial\"\n",
    "\n",
    "# partial query \n",
    "query_url = f\"{url}appid={weather_api_key}&units={units}&q=\"\n",
    "\n",
    "# create empty lists to hold responses\n",
    "city_names = []\n",
    "lat = []\n",
    "lon = []\n",
    "date = []\n",
    "temp = []\n",
    "humid = []\n",
    "wind_speed = []\n",
    "cloud = []\n",
    "country = []\n",
    "ID = []\n",
    "\n",
    "# try and except \n",
    "for index, city in enumerate(cities):\n",
    "    \n",
    "    try:\n",
    "        response = requests.get(query_url + city).json()\n",
    "        lat.append(response['coord']['lat'])\n",
    "        lon.append(response['coord']['lon'])\n",
    "        temp.append(response['main']['temp_max'])\n",
    "        humid.append(response['main']['humidity'])\n",
    "        wind_speed.append(response['wind']['speed'])\n",
    "        cloud.append(response['clouds']['all'])\n",
    "        city_names.append(city)\n",
    "        country.append(response['sys']['country'])\n",
    "        date.append(response['dt'])\n",
    "        print(\"City Number \" + str(index)+ ',' + city)\n",
    "        \n",
    "    except:\n",
    "        print (\"City Not Found\")\n",
    "        \n"
   ]
  },
  {
   "cell_type": "markdown",
   "metadata": {},
   "source": [
    "### Convert Raw Data to DataFrame\n",
    "* Export the city data into a .csv.\n",
    "* Display the DataFrame"
   ]
  },
  {
   "cell_type": "code",
   "execution_count": 9,
   "metadata": {},
   "outputs": [
    {
     "data": {
      "text/html": [
       "<div>\n",
       "<style scoped>\n",
       "    .dataframe tbody tr th:only-of-type {\n",
       "        vertical-align: middle;\n",
       "    }\n",
       "\n",
       "    .dataframe tbody tr th {\n",
       "        vertical-align: top;\n",
       "    }\n",
       "\n",
       "    .dataframe thead th {\n",
       "        text-align: right;\n",
       "    }\n",
       "</style>\n",
       "<table border=\"1\" class=\"dataframe\">\n",
       "  <thead>\n",
       "    <tr style=\"text-align: right;\">\n",
       "      <th></th>\n",
       "      <th>City Name</th>\n",
       "      <th>Country</th>\n",
       "      <th>Longitude</th>\n",
       "      <th>Latitude</th>\n",
       "      <th>Temperature</th>\n",
       "      <th>Humidity</th>\n",
       "      <th>Wind Speed</th>\n",
       "      <th>Cloudiness</th>\n",
       "      <th>Date</th>\n",
       "    </tr>\n",
       "  </thead>\n",
       "  <tbody>\n",
       "    <tr>\n",
       "      <th>0</th>\n",
       "      <td>san quintin</td>\n",
       "      <td>MX</td>\n",
       "      <td>-115.95</td>\n",
       "      <td>30.48</td>\n",
       "      <td>81.55</td>\n",
       "      <td>44</td>\n",
       "      <td>15.61</td>\n",
       "      <td>100</td>\n",
       "      <td>1603049066</td>\n",
       "    </tr>\n",
       "    <tr>\n",
       "      <th>1</th>\n",
       "      <td>ushuaia</td>\n",
       "      <td>AR</td>\n",
       "      <td>-68.30</td>\n",
       "      <td>-54.80</td>\n",
       "      <td>42.80</td>\n",
       "      <td>75</td>\n",
       "      <td>28.86</td>\n",
       "      <td>75</td>\n",
       "      <td>1603049066</td>\n",
       "    </tr>\n",
       "    <tr>\n",
       "      <th>2</th>\n",
       "      <td>busselton</td>\n",
       "      <td>AU</td>\n",
       "      <td>115.33</td>\n",
       "      <td>-33.65</td>\n",
       "      <td>59.00</td>\n",
       "      <td>54</td>\n",
       "      <td>8.84</td>\n",
       "      <td>0</td>\n",
       "      <td>1603049067</td>\n",
       "    </tr>\n",
       "    <tr>\n",
       "      <th>3</th>\n",
       "      <td>domoni</td>\n",
       "      <td>KM</td>\n",
       "      <td>44.53</td>\n",
       "      <td>-12.26</td>\n",
       "      <td>77.79</td>\n",
       "      <td>73</td>\n",
       "      <td>5.37</td>\n",
       "      <td>54</td>\n",
       "      <td>1603049067</td>\n",
       "    </tr>\n",
       "    <tr>\n",
       "      <th>4</th>\n",
       "      <td>khatanga</td>\n",
       "      <td>RU</td>\n",
       "      <td>102.50</td>\n",
       "      <td>71.97</td>\n",
       "      <td>6.89</td>\n",
       "      <td>86</td>\n",
       "      <td>8.72</td>\n",
       "      <td>71</td>\n",
       "      <td>1603049067</td>\n",
       "    </tr>\n",
       "    <tr>\n",
       "      <th>...</th>\n",
       "      <td>...</td>\n",
       "      <td>...</td>\n",
       "      <td>...</td>\n",
       "      <td>...</td>\n",
       "      <td>...</td>\n",
       "      <td>...</td>\n",
       "      <td>...</td>\n",
       "      <td>...</td>\n",
       "      <td>...</td>\n",
       "    </tr>\n",
       "    <tr>\n",
       "      <th>566</th>\n",
       "      <td>sawtell</td>\n",
       "      <td>AU</td>\n",
       "      <td>153.10</td>\n",
       "      <td>-30.38</td>\n",
       "      <td>60.80</td>\n",
       "      <td>93</td>\n",
       "      <td>9.17</td>\n",
       "      <td>90</td>\n",
       "      <td>1603049204</td>\n",
       "    </tr>\n",
       "    <tr>\n",
       "      <th>567</th>\n",
       "      <td>pangoa</td>\n",
       "      <td>PE</td>\n",
       "      <td>-73.00</td>\n",
       "      <td>-12.12</td>\n",
       "      <td>83.95</td>\n",
       "      <td>58</td>\n",
       "      <td>4.00</td>\n",
       "      <td>97</td>\n",
       "      <td>1603049204</td>\n",
       "    </tr>\n",
       "    <tr>\n",
       "      <th>568</th>\n",
       "      <td>coihaique</td>\n",
       "      <td>CL</td>\n",
       "      <td>-72.07</td>\n",
       "      <td>-45.58</td>\n",
       "      <td>44.60</td>\n",
       "      <td>75</td>\n",
       "      <td>3.36</td>\n",
       "      <td>90</td>\n",
       "      <td>1603049204</td>\n",
       "    </tr>\n",
       "    <tr>\n",
       "      <th>569</th>\n",
       "      <td>calamar</td>\n",
       "      <td>CO</td>\n",
       "      <td>-74.91</td>\n",
       "      <td>10.25</td>\n",
       "      <td>87.80</td>\n",
       "      <td>74</td>\n",
       "      <td>11.41</td>\n",
       "      <td>40</td>\n",
       "      <td>1603049205</td>\n",
       "    </tr>\n",
       "    <tr>\n",
       "      <th>570</th>\n",
       "      <td>mirandopolis</td>\n",
       "      <td>BR</td>\n",
       "      <td>-51.10</td>\n",
       "      <td>-21.13</td>\n",
       "      <td>96.48</td>\n",
       "      <td>22</td>\n",
       "      <td>5.59</td>\n",
       "      <td>34</td>\n",
       "      <td>1603049205</td>\n",
       "    </tr>\n",
       "  </tbody>\n",
       "</table>\n",
       "<p>571 rows × 9 columns</p>\n",
       "</div>"
      ],
      "text/plain": [
       "        City Name Country  Longitude  Latitude  Temperature  Humidity  \\\n",
       "0     san quintin      MX    -115.95     30.48        81.55        44   \n",
       "1         ushuaia      AR     -68.30    -54.80        42.80        75   \n",
       "2       busselton      AU     115.33    -33.65        59.00        54   \n",
       "3          domoni      KM      44.53    -12.26        77.79        73   \n",
       "4        khatanga      RU     102.50     71.97         6.89        86   \n",
       "..            ...     ...        ...       ...          ...       ...   \n",
       "566       sawtell      AU     153.10    -30.38        60.80        93   \n",
       "567        pangoa      PE     -73.00    -12.12        83.95        58   \n",
       "568     coihaique      CL     -72.07    -45.58        44.60        75   \n",
       "569       calamar      CO     -74.91     10.25        87.80        74   \n",
       "570  mirandopolis      BR     -51.10    -21.13        96.48        22   \n",
       "\n",
       "     Wind Speed  Cloudiness        Date  \n",
       "0         15.61         100  1603049066  \n",
       "1         28.86          75  1603049066  \n",
       "2          8.84           0  1603049067  \n",
       "3          5.37          54  1603049067  \n",
       "4          8.72          71  1603049067  \n",
       "..          ...         ...         ...  \n",
       "566        9.17          90  1603049204  \n",
       "567        4.00          97  1603049204  \n",
       "568        3.36          90  1603049204  \n",
       "569       11.41          40  1603049205  \n",
       "570        5.59          34  1603049205  \n",
       "\n",
       "[571 rows x 9 columns]"
      ]
     },
     "execution_count": 9,
     "metadata": {},
     "output_type": "execute_result"
    }
   ],
   "source": [
    "cities_df = pd.DataFrame({\"City Name\":city_names, \"Country\": country, \"Longitude\":lon, \"Latitude\":lat, \"Temperature\": temp,\n",
    "                         \"Humidity\":humid, \"Wind Speed\": wind_speed, \"Cloudiness\": cloud, \"Date\": date})\n",
    "cities_df"
   ]
  },
  {
   "cell_type": "code",
   "execution_count": 10,
   "metadata": {},
   "outputs": [],
   "source": [
    "cities_df.to_csv(\"../output_data/cities_data.csv\", encoding = \"utf-8\", index = False)"
   ]
  },
  {
   "cell_type": "markdown",
   "metadata": {},
   "source": [
    "## Inspect the data and remove the cities where the humidity > 100%.\n",
    "----\n",
    "Skip this step if there are no cities that have humidity > 100%. "
   ]
  },
  {
   "cell_type": "code",
   "execution_count": 11,
   "metadata": {},
   "outputs": [
    {
     "data": {
      "text/html": [
       "<div>\n",
       "<style scoped>\n",
       "    .dataframe tbody tr th:only-of-type {\n",
       "        vertical-align: middle;\n",
       "    }\n",
       "\n",
       "    .dataframe tbody tr th {\n",
       "        vertical-align: top;\n",
       "    }\n",
       "\n",
       "    .dataframe thead th {\n",
       "        text-align: right;\n",
       "    }\n",
       "</style>\n",
       "<table border=\"1\" class=\"dataframe\">\n",
       "  <thead>\n",
       "    <tr style=\"text-align: right;\">\n",
       "      <th></th>\n",
       "      <th>City Name</th>\n",
       "      <th>Country</th>\n",
       "      <th>Longitude</th>\n",
       "      <th>Latitude</th>\n",
       "      <th>Temperature</th>\n",
       "      <th>Humidity</th>\n",
       "      <th>Wind Speed</th>\n",
       "      <th>Cloudiness</th>\n",
       "      <th>Date</th>\n",
       "    </tr>\n",
       "  </thead>\n",
       "  <tbody>\n",
       "  </tbody>\n",
       "</table>\n",
       "</div>"
      ],
      "text/plain": [
       "Empty DataFrame\n",
       "Columns: [City Name, Country, Longitude, Latitude, Temperature, Humidity, Wind Speed, Cloudiness, Date]\n",
       "Index: []"
      ]
     },
     "execution_count": 11,
     "metadata": {},
     "output_type": "execute_result"
    }
   ],
   "source": [
    "humidity_df = cities_df.loc[cities_df[\"Humidity\"] > 100]\n",
    "humidity_df"
   ]
  },
  {
   "cell_type": "code",
   "execution_count": 24,
   "metadata": {},
   "outputs": [],
   "source": [
    "#  Get the indices of cities that have humidity over 100%."
   ]
  },
  {
   "cell_type": "code",
   "execution_count": 8,
   "metadata": {},
   "outputs": [],
   "source": [
    "# Make a new DataFrame equal to the city data to drop all humidity outliers by index.\n",
    "# Passing \"inplace=False\" will make a copy of the city_data DataFrame, which we call \"clean_city_data\".\n"
   ]
  },
  {
   "cell_type": "markdown",
   "metadata": {},
   "source": [
    "## Plotting the Data\n",
    "* Use proper labeling of the plots using plot titles (including date of analysis) and axes labels.\n",
    "* Save the plotted figures as .pngs."
   ]
  },
  {
   "cell_type": "markdown",
   "metadata": {},
   "source": [
    "## Latitude vs. Temperature Plot"
   ]
  },
  {
   "cell_type": "code",
   "execution_count": 13,
   "metadata": {
    "scrolled": false
   },
   "outputs": [
    {
     "data": {
      "image/png": "[encoded data removed]",
      "text/plain": [
       "<Figure size 432x288 with 1 Axes>"
      ]
     },
     "metadata": {
      "needs_background": "light"
     },
     "output_type": "display_data"
    }
   ],
   "source": [
    "plt.scatter(cities_df['Latitude'], cities_df['Temperature'])\n",
    "plt.xlabel(\"Latitude\")\n",
    "plt.ylabel(\"Temperature (F)\")\n",
    "plt.title(\"Latitude v. Temperature\")\n",
    "plt.grid()\n",
    "\n",
    "plt.show()\n",
    "\n",
    "print(\"This plot is displaying the relationship between a city's temperature and it's position on the the Earth's axis. The trend shows that the cities closer to 0 degrees latitude have higher temperatures than those further away from 0 degrees latitude on either side.)\")"
   ]
  },
  {
   "cell_type": "markdown",
   "metadata": {},
   "source": [
    "## Latitude vs. Humidity Plot"
   ]
  },
  {
   "cell_type": "code",
   "execution_count": 14,
   "metadata": {},
   "outputs": [
    {
     "data": {
      "image/png": "[encoded data removed]",
      "text/plain": [
       "<Figure size 432x288 with 1 Axes>"
      ]
     },
     "metadata": {
      "needs_background": "light"
     },
     "output_type": "display_data"
    }
   ],
   "source": [
    "plt.scatter(cities_df['Latitude'], cities_df['Humidity'])\n",
    "plt.xlabel(\"Latitude\")\n",
    "plt.ylabel(\"Humidity (%)\")\n",
    "plt.title(\"Latitude v. Humidity\")\n",
    "plt.grid()\n",
    "\n",
    "plt.show()\n",
    "\n",
    "print(\"This plot displays the correlation between a city's position on the Earth's axis and the humidity of that city. According to this scatter plot, there is no real correlation between the latitude and the humidity of the city.\")"
   ]
  },
  {
   "cell_type": "markdown",
   "metadata": {},
   "source": [
    "## Latitude vs. Cloudiness Plot"
   ]
  },
  {
   "cell_type": "code",
   "execution_count": 15,
   "metadata": {},
   "outputs": [
    {
     "data": {
      "image/png": "[encoded data removed]",
      "text/plain": [
       "<Figure size 432x288 with 1 Axes>"
      ]
     },
     "metadata": {
      "needs_background": "light"
     },
     "output_type": "display_data"
    }
   ],
   "source": [
    "plt.scatter(cities_df['Latitude'], cities_df['Cloudiness'])\n",
    "plt.xlabel(\"Latitude\")\n",
    "plt.ylabel(\"Cloudiness (%)\")\n",
    "plt.title(\"Latitude v. Cloudiness\")\n",
    "plt.grid()\n",
    "\n",
    "plt.show()\n",
    "\n",
    "print(\"This plot displays the correlation between a city's position on the Earth's axis and the cloudiness of that city. According to this scatter plot, there is no real correlation between the latitude and the cloudiness of the city.\")"
   ]
  },
  {
   "cell_type": "markdown",
   "metadata": {},
   "source": [
    "## Latitude vs. Wind Speed Plot"
   ]
  },
  {
   "cell_type": "code",
   "execution_count": 17,
   "metadata": {},
   "outputs": [
    {
     "data": {
      "image/png": "[encoded data removed]",
      "text/plain": [
       "<Figure size 432x288 with 1 Axes>"
      ]
     },
     "metadata": {
      "needs_background": "light"
     },
     "output_type": "display_data"
    }
   ],
   "source": [
    "plt.scatter(cities_df['Latitude'], cities_df['Wind Speed'])\n",
    "plt.xlabel(\"Latitude\")\n",
    "plt.ylabel(\"Wind Speed (MPH)\")\n",
    "plt.title(\"Latitude v. Wind Speed\")\n",
    "plt.grid()\n",
    "\n",
    "\n",
    "plt.show()\n",
    "\n",
    "print(\"This plot displays the correlation between a city's position on the Earth's axis and the wind speed of that city. According to this scatter plot, there is no real correlation between the latitude and wind speed in a city.\")"
   ]
  },
  {
   "cell_type": "markdown",
   "metadata": {},
   "source": [
    "## Linear Regression"
   ]
  },
  {
   "cell_type": "markdown",
   "metadata": {},
   "source": [
    "####  Northern Hemisphere - Max Temp vs. Latitude Linear Regression"
   ]
  },
  {
   "cell_type": "code",
   "execution_count": null,
   "metadata": {},
   "outputs": [],
   "source": [
    "nor_hem = cities_df.loc[cities_df[\"Latitude\"] >= 0]"
   ]
  },
  {
   "cell_type": "code",
   "execution_count": 45,
   "metadata": {},
   "outputs": [
    {
     "name": "stdout",
     "output_type": "stream",
     "text": [
      "The r-value is: -0.8488682883148209\n"
     ]
    },
    {
     "data": {
      "image/png": "[encoded data removed]",
      "text/plain": [
       "<Figure size 432x288 with 1 Axes>"
      ]
     },
     "metadata": {
      "needs_background": "light"
     },
     "output_type": "display_data"
    }
   ],
   "source": [
    "x_values = nor_hem['Latitude']\n",
    "y_values = nor_hem['Temperature']\n",
    "(slope, intercept, rvalue, pvalue, stderr) = linregress(x_values, y_values)\n",
    "regress_values = x_values * slope + intercept\n",
    "line_eq = \"y = \" + str(round(slope,2)) + \"x + \" + str(round(intercept,2))\n",
    "plt.scatter(x_values,y_values)\n",
    "plt.plot(x_values,regress_values,\"r-\")\n",
    "plt.annotate(line_eq,(6,10),fontsize=15,color=\"red\")\n",
    "plt.xlabel('Latitude')\n",
    "plt.ylabel('Temperature (F)')\n",
    "\n",
    "print(f\"The r-value is: {rvalue}\")\n",
    "\n",
    "plt.show()\n"
   ]
  },
  {
   "cell_type": "markdown",
   "metadata": {},
   "source": [
    "####  Southern Hemisphere - Max Temp vs. Latitude Linear Regression"
   ]
  },
  {
   "cell_type": "code",
   "execution_count": 34,
   "metadata": {},
   "outputs": [],
   "source": [
    "south_hem = cities_df.loc[cities_df[\"Latitude\"] <= 0]"
   ]
  },
  {
   "cell_type": "code",
   "execution_count": 46,
   "metadata": {},
   "outputs": [
    {
     "name": "stdout",
     "output_type": "stream",
     "text": [
      "The r-value is: 0.7242400548408562\n"
     ]
    },
    {
     "data": {
      "image/png": "[encoded data removed]",
      "text/plain": [
       "<Figure size 432x288 with 1 Axes>"
      ]
     },
     "metadata": {
      "needs_background": "light"
     },
     "output_type": "display_data"
    }
   ],
   "source": [
    "x_values = south_hem['Latitude']\n",
    "y_values = south_hem['Temperature']\n",
    "(slope, intercept, rvalue, pvalue, stderr) = linregress(x_values, y_values)\n",
    "regress_values = x_values * slope + intercept\n",
    "line_eq = \"y = \" + str(round(slope,2)) + \"x + \" + str(round(intercept,2))\n",
    "plt.scatter(x_values,y_values)\n",
    "plt.plot(x_values,regress_values,\"r-\")\n",
    "plt.annotate(line_eq,(6,10),fontsize=15,color=\"red\")\n",
    "plt.xlabel('Latitude')\n",
    "plt.ylabel('Temperature (F)')\n",
    "\n",
    "print(f\"The r-value is: {rvalue}\")\n",
    "\n",
    "plt.show()\n",
    "\n",
    "print(\"Both plots for the relation between latitude and max temperature of a given city prove to have a strong correlation. In the northern hempishere, there max temperature can almost be predicted by knowing the latitudinal coordinates of a city. In the southern hemisphere, there is a correlation, though not a strong as the northern hemisphere. This on a grand scheme could point to global warming, or maybe on all a smaller scale a seasonal difference.\")"
   ]
  },
  {
   "cell_type": "markdown",
   "metadata": {},
   "source": [
    "####  Northern Hemisphere - Humidity (%) vs. Latitude Linear Regression"
   ]
  },
  {
   "cell_type": "code",
   "execution_count": 47,
   "metadata": {},
   "outputs": [
    {
     "name": "stdout",
     "output_type": "stream",
     "text": [
      "The r-value is: 0.23796076244199887\n"
     ]
    },
    {
     "data": {
      "image/png": "[encoded data removed]",
      "text/plain": [
       "<Figure size 432x288 with 1 Axes>"
      ]
     },
     "metadata": {
      "needs_background": "light"
     },
     "output_type": "display_data"
    }
   ],
   "source": [
    "x_values = nor_hem['Latitude']\n",
    "y_values = nor_hem['Humidity']\n",
    "(slope, intercept, rvalue, pvalue, stderr) = linregress(x_values, y_values)\n",
    "regress_values = x_values * slope + intercept\n",
    "line_eq = \"y = \" + str(round(slope,2)) + \"x + \" + str(round(intercept,2))\n",
    "plt.scatter(x_values,y_values)\n",
    "plt.plot(x_values,regress_values,\"r-\")\n",
    "plt.annotate(line_eq,(6,10),fontsize=15,color=\"red\")\n",
    "plt.xlabel('Latitude')\n",
    "plt.ylabel('Humidity (%)')\n",
    "\n",
    "print(f\"The r-value is: {rvalue}\")\n",
    "\n",
    "plt.show()"
   ]
  },
  {
   "cell_type": "markdown",
   "metadata": {},
   "source": [
    "####  Southern Hemisphere - Humidity (%) vs. Latitude Linear Regression"
   ]
  },
  {
   "cell_type": "code",
   "execution_count": 48,
   "metadata": {},
   "outputs": [
    {
     "name": "stdout",
     "output_type": "stream",
     "text": [
      "The r-value is: 0.1063121839735508\n"
     ]
    },
    {
     "data": {
      "image/png": "[encoded data removed]",
      "text/plain": [
       "<Figure size 432x288 with 1 Axes>"
      ]
     },
     "metadata": {
      "needs_background": "light"
     },
     "output_type": "display_data"
    }
   ],
   "source": [
    "x_values = south_hem['Latitude']\n",
    "y_values = south_hem['Humidity']\n",
    "(slope, intercept, rvalue, pvalue, stderr) = linregress(x_values, y_values)\n",
    "regress_values = x_values * slope + intercept\n",
    "line_eq = \"y = \" + str(round(slope,2)) + \"x + \" + str(round(intercept,2))\n",
    "plt.scatter(x_values,y_values)\n",
    "plt.plot(x_values,regress_values,\"r-\")\n",
    "plt.annotate(line_eq,(6,10),fontsize=15,color=\"red\")\n",
    "plt.xlabel('Latitude')\n",
    "plt.ylabel('Humidity (%)')\n",
    "\n",
    "print(f\"The r-value is: {rvalue}\")\n",
    "\n",
    "plt.show()\n",
    "\n",
    "print(\"The r values in the plots for latitude vs humidity comparison in the norther and southern hemisphere are extremely low, indicating almost no correlation between how humid a city is based on it's location.\")"
   ]
  },
  {
   "cell_type": "markdown",
   "metadata": {},
   "source": [
    "####  Northern Hemisphere - Cloudiness (%) vs. Latitude Linear Regression"
   ]
  },
  {
   "cell_type": "code",
   "execution_count": 49,
   "metadata": {},
   "outputs": [
    {
     "name": "stdout",
     "output_type": "stream",
     "text": [
      "The r-value is: 0.2062840644029003\n"
     ]
    },
    {
     "data": {
      "image/png": "[encoded data removed]",
      "text/plain": [
       "<Figure size 432x288 with 1 Axes>"
      ]
     },
     "metadata": {
      "needs_background": "light"
     },
     "output_type": "display_data"
    }
   ],
   "source": [
    "x_values = nor_hem['Latitude']\n",
    "y_values = nor_hem['Cloudiness']\n",
    "(slope, intercept, rvalue, pvalue, stderr) = linregress(x_values, y_values)\n",
    "regress_values = x_values * slope + intercept\n",
    "line_eq = \"y = \" + str(round(slope,2)) + \"x + \" + str(round(intercept,2))\n",
    "plt.scatter(x_values,y_values)\n",
    "plt.plot(x_values,regress_values,\"r-\")\n",
    "plt.annotate(line_eq,(6,10),fontsize=15,color=\"red\")\n",
    "plt.xlabel('Latitude')\n",
    "plt.ylabel('Cloudiness (%)')\n",
    "\n",
    "print(f\"The r-value is: {rvalue}\")\n",
    "\n",
    "plt.show()"
   ]
  },
  {
   "cell_type": "markdown",
   "metadata": {},
   "source": [
    "####  Southern Hemisphere - Cloudiness (%) vs. Latitude Linear Regression"
   ]
  },
  {
   "cell_type": "code",
   "execution_count": 50,
   "metadata": {},
   "outputs": [
    {
     "name": "stdout",
     "output_type": "stream",
     "text": [
      "The r-value is: 0.13363913454107584\n"
     ]
    },
    {
     "data": {
      "image/png": "[encoded data removed]",
      "text/plain": [
       "<Figure size 432x288 with 1 Axes>"
      ]
     },
     "metadata": {
      "needs_background": "light"
     },
     "output_type": "display_data"
    }
   ],
   "source": [
    "x_values = south_hem['Latitude']\n",
    "y_values = south_hem['Cloudiness']\n",
    "(slope, intercept, rvalue, pvalue, stderr) = linregress(x_values, y_values)\n",
    "regress_values = x_values * slope + intercept\n",
    "line_eq = \"y = \" + str(round(slope,2)) + \"x + \" + str(round(intercept,2))\n",
    "plt.scatter(x_values,y_values)\n",
    "plt.plot(x_values,regress_values,\"r-\")\n",
    "plt.annotate(line_eq,(6,10),fontsize=15,color=\"red\")\n",
    "plt.xlabel('Latitude')\n",
    "plt.ylabel('Cloudiness (%)')\n",
    "\n",
    "print(f\"The r-value is: {rvalue}\")\n",
    "\n",
    "plt.show()\n",
    "\n",
    "print(\"The r values in the plots for latitude vs cloudiness comparison in the northern and southern hemisphere are extremely low, indicating almost no correlation between how cloudy a city is based on it's location.\")"
   ]
  },
  {
   "cell_type": "markdown",
   "metadata": {},
   "source": [
    "####  Northern Hemisphere - Wind Speed (mph) vs. Latitude Linear Regression"
   ]
  },
  {
   "cell_type": "code",
   "execution_count": 51,
   "metadata": {},
   "outputs": [
    {
     "name": "stdout",
     "output_type": "stream",
     "text": [
      "The r-value is: 0.17498643564325278\n"
     ]
    },
    {
     "data": {
      "image/png": "[encoded data removed]",
      "text/plain": [
       "<Figure size 432x288 with 1 Axes>"
      ]
     },
     "metadata": {
      "needs_background": "light"
     },
     "output_type": "display_data"
    }
   ],
   "source": [
    "x_values = nor_hem['Latitude']\n",
    "y_values = nor_hem['Wind Speed']\n",
    "(slope, intercept, rvalue, pvalue, stderr) = linregress(x_values, y_values)\n",
    "regress_values = x_values * slope + intercept\n",
    "line_eq = \"y = \" + str(round(slope,2)) + \"x + \" + str(round(intercept,2))\n",
    "plt.scatter(x_values,y_values)\n",
    "plt.plot(x_values,regress_values,\"r-\")\n",
    "plt.annotate(line_eq,(6,10),fontsize=15,color=\"red\")\n",
    "plt.xlabel('Latitude')\n",
    "plt.ylabel('Wind Speed (mph)')\n",
    "\n",
    "print(f\"The r-value is: {rvalue}\")\n",
    "\n",
    "plt.show()"
   ]
  },
  {
   "cell_type": "markdown",
   "metadata": {},
   "source": [
    "####  Southern Hemisphere - Wind Speed (mph) vs. Latitude Linear Regression"
   ]
  },
  {
   "cell_type": "code",
   "execution_count": 52,
   "metadata": {},
   "outputs": [
    {
     "name": "stdout",
     "output_type": "stream",
     "text": [
      "The r-value is: -0.20087276683339383\n"
     ]
    },
    {
     "data": {
      "image/png": "[encoded data removed]",
      "text/plain": [
       "<Figure size 432x288 with 1 Axes>"
      ]
     },
     "metadata": {
      "needs_background": "light"
     },
     "output_type": "display_data"
    }
   ],
   "source": [
    "x_values = south_hem['Latitude']\n",
    "y_values = south_hem['Wind Speed']\n",
    "(slope, intercept, rvalue, pvalue, stderr) = linregress(x_values, y_values)\n",
    "regress_values = x_values * slope + intercept\n",
    "line_eq = \"y = \" + str(round(slope,2)) + \"x + \" + str(round(intercept,2))\n",
    "plt.scatter(x_values,y_values)\n",
    "plt.plot(x_values,regress_values,\"r-\")\n",
    "plt.annotate(line_eq,(6,10),fontsize=15,color=\"red\")\n",
    "plt.xlabel('Latitude')\n",
    "plt.ylabel('Wind Speed (mph)')\n",
    "\n",
    "print(f\"The r-value is: {rvalue}\")\n",
    "\n",
    "plt.show()\n",
    "\n",
    "print(\"The r values in the plots for latitude vs windspeed comparison in the norther and southern hemisphere are extremely low, indicating almost no correlation between how windy a city is based on it's location. However, it should be noted that the northern hemisphere has a positive correlation and the southern hemisphere has a negative correlation. Though this could likely be due to coincidence, it could indicate that in the northern hemisphere, wind speed is more like to increase as latitude increases, and vice versa, in the southern hemisphere, the wind speed is more likely to decrease as latitude decreases. More tests would need to be conducted to prove this theory\")"
   ]
  },
  {
   "cell_type": "markdown",
   "metadata": {},
   "source": [
    "## Observations\n",
    "After analyzing the data from the plots included in this notebook I found that there are not many correlations between the position of a city on the Earth's axis and other weather characteristics. The strongest relation is to a city's location on the Earth's axis is the city's maximum temperature. The city's maximum temperature is almost directly correlated to the position of the city. Humidity, Cloudiness, and Wind Speed all seem to be very random when assessed based on latitudinal position. "
   ]
  }
 ],
 "metadata": {
  "anaconda-cloud": {},
  "kernel_info": {
   "name": "python3"
  },
  "kernelspec": {
   "display_name": "Python [conda env:PythonData] *",
   "language": "python",
   "name": "conda-env-PythonData-py"
  },
  "language_info": {
   "codemirror_mode": {
    "name": "ipython",
    "version": 3
   },
   "file_extension": ".py",
   "mimetype": "text/x-python",
   "name": "python",
   "nbconvert_exporter": "python",
   "pygments_lexer": "ipython3",
   "version": "3.6.10"
  },
  "latex_envs": {
   "LaTeX_envs_menu_present": true,
   "autoclose": false,
   "autocomplete": true,
   "bibliofile": "biblio.bib",
   "cite_by": "apalike",
   "current_citInitial": 1,
   "eqLabelWithNumbers": true,
   "eqNumInitial": 1,
   "hotkeys": {
    "equation": "Ctrl-E",
    "itemize": "Ctrl-I"
   },
   "labels_anchors": false,
   "latex_user_defs": false,
   "report_style_numbering": false,
   "user_envs_cfg": false
  },
  "nteract": {
   "version": "0.12.3"
  }
 },
 "nbformat": 4,
 "nbformat_minor": 2
}
